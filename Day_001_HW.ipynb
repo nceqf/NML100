{
 "cells": [
  {
   "cell_type": "markdown",
   "metadata": {},
   "source": [
    "## 練習時間\n",
    "#### 請寫一個函式用來計算 Mean Square Error\n",
    "$ MSE = \\frac{1}{n}\\sum_{i=1}^{n}{(Y_i - \\hat{Y}_i)^2} $\n",
    "\n",
    "### Hint: [如何取平方](https://googoodesign.gitbooks.io/-ezpython/unit-1.html)"
   ]
  },
  {
   "cell_type": "markdown",
   "metadata": {},
   "source": [
    "# [作業目標]\n",
    "- 仿造範例的MAE函數, 自己寫一個MSE函數(參考上面公式)"
   ]
  },
  {
   "cell_type": "markdown",
   "metadata": {},
   "source": [
    "# [作業重點]\n",
    "- 注意程式的縮排\n",
    "- 是否能將數學公式, 轉換為 Python 的函式組合? (In[2], Out[2])"
   ]
  },
  {
   "cell_type": "code",
   "execution_count": 2,
   "metadata": {},
   "outputs": [],
   "source": [
    "# 載入基礎套件與代稱\n",
    "import numpy as np\n",
    "import matplotlib.pyplot as plt"
   ]
  },
  {
   "cell_type": "code",
   "execution_count": 8,
   "metadata": {},
   "outputs": [],
   "source": [
    "def mean_absolute_error(y, yp):\n",
    "    \"\"\"\n",
    "    計算 MAE\n",
    "    Args:\n",
    "        - y: 實際值\n",
    "        - yp: 預測值\n",
    "    Return:\n",
    "        - mae: MAE\n",
    "    \"\"\"\n",
    "    mae = MAE = sum(abs(y - yp)) / len(y)\n",
    "    return mae\n",
    "\n",
    "# 定義 mean_squared_error 這個函數, 計算並傳回 MSE\n",
    "def mean_squared_error(y, yp):\n",
    "    \"\"\"\n",
    "    請完成這個 Function 後往下執行\n",
    "    \"\"\"\n",
    "    mse = MSE = sum((y - yp)**2) / len(y)\n",
    "    return mse"
   ]
  },
  {
   "cell_type": "code",
   "execution_count": 14,
   "metadata": {},
   "outputs": [
    {
     "data": {
      "image/png": "[encoded data removed]",
      "text/plain": [
       "<Figure size 432x288 with 1 Axes>"
      ]
     },
     "metadata": {
      "needs_background": "light"
     },
     "output_type": "display_data"
    }
   ],
   "source": [
    "# 與範例相同, 不另外解說\n",
    "w = 3\n",
    "b = 0.5\n",
    "x_lin = np.linspace(0, 100, 101)\n",
    "y = (x_lin + np.random.randn(101) * 5) * w + b\n",
    "\n",
    "plt.plot(x_lin, y, 'b.', label = 'data points')\n",
    "plt.title(\"Assume we have data points\")\n",
    "plt.legend(loc = 2)\n",
    "plt.show()"
   ]
  },
  {
   "cell_type": "code",
   "execution_count": 15,
   "metadata": {},
   "outputs": [
    {
     "data": {
      "image/png": "[encoded data removed]",
      "text/plain": [
       "<Figure size 432x288 with 1 Axes>"
      ]
     },
     "metadata": {
      "needs_background": "light"
     },
     "output_type": "display_data"
    }
   ],
   "source": [
    "# 與範例相同, 不另外解說\n",
    "y_hat = x_lin * w + b\n",
    "plt.plot(x_lin, y, 'b.', label = 'data')\n",
    "plt.plot(x_lin, y_hat, 'r-', label = 'prediction')\n",
    "plt.title(\"Assume we have data points (And the prediction)\")\n",
    "plt.legend(loc = 2)\n",
    "plt.show()"
   ]
  },
  {
   "cell_type": "code",
   "execution_count": 16,
   "metadata": {},
   "outputs": [
    {
     "name": "stdout",
     "output_type": "stream",
     "text": [
      "The Mean squared error is 256.057\n",
      "The Mean absolute error is 12.997\n"
     ]
    }
   ],
   "source": [
    "# 執行 Function, 確認有沒有正常執行\n",
    "MSE = mean_squared_error(y, y_hat)\n",
    "MAE = mean_absolute_error(y, y_hat)\n",
    "print(\"The Mean squared error is %.3f\" % (MSE))\n",
    "print(\"The Mean absolute error is %.3f\" % (MAE))"
   ]
  },
  {
   "cell_type": "markdown",
   "metadata": {},
   "source": [
    "# [作業2]\n",
    "\n",
    "請上 Kaggle, 在 Competitions 或 Dataset 中找一組競賽或資料並寫下：<br>\n",
    "Image Matching Challenge 2022<br>\n",
    "Register two images from different viewpoints<br>\n",
    "https://www.kaggle.com/competitions/image-matching-challenge-2022\n",
    "\n",
    "1. 你選的這組資料為何重要<br>\n",
    "   (1) 針對同一目標提供多種角度的資訊<br>\n",
    "   (2) 可用於三維空間建模<br>\n",
    "   (3) 應用於災難發生的即時救援<br>\n",
    "   (4) 旅遊景點多面向的相片預覽<p>\n",
    "\n",
    "2. 資料從何而來 (tips: 譬如提供者是誰、以什麼方式蒐集)<br>\n",
    "   以搜索引擎尋找同一目標的相片(網路爬蟲)<br>\n",
    "   網路圖庫網站<p>\n",
    "   \n",
    "3. 蒐集而來的資料型態為何<br>\n",
    "    影像<p>\n",
    "\n",
    "4. 這組資料想解決的問題如何評估<br>\n",
    "   正確率評估<br>\n",
    "   透過cross-entropy針對分類結果進行衡量<p>\n",
    "\n",
    "# [作業3]\n",
    "\n",
    "想像你經營一個自由載客車隊，你希望能透過數據分析以提升業績，請你思考並描述你如何規劃整體的分析/解決方案：\n",
    "\n",
    "1. 核心問題為何 (tips：如何定義 「提升業績 & 你的假設」)<br>\n",
    "   業績衡量指標<br>\n",
    "   (1) 空車繞行時間<br>\n",
    "   (2) 單日載客量(效率)<br>\n",
    "   (3) 乘客等車時間<br>\n",
    "   (4) 營業收入<br>\n",
    "   考量要素<br>\n",
    "   (1) 區域地點<br>\n",
    "   (2) 星期、時段熱點<br>\n",
    "   (3) 天氣<br>\n",
    "   (4) 節慶、活動<br>\n",
    "   (5) 搭配服務項目(就醫、共乘)<p>\n",
    "\n",
    "2. 資料從何而來 (tips：哪些資料可能會對你想問的問題產生影響 & 資料如何蒐集)<br>\n",
    "   車隊近幾年的載客資料紀錄、TLC(Taxi Limousine Commission)<br>\n",
    "   (1) 司機排班點<br>\n",
    "   (2) 載客起迄時間<br>\n",
    "   (3) 時段載客量<br>\n",
    "   (4) 區域載客量<br>\n",
    "   (5) 熱門區域位置<br>\n",
    "   相關單位公開資訊、網路爬蟲<br>\n",
    "   (1) 氣候資料<br>\n",
    "   (2) 節慶、活動資料<p>\n",
    "   \n",
    "3. 蒐集而來的資料型態為何<br>\n",
    "   (1) 數值: 區域載客量、時段載客量...<br>\n",
    "   (2) 座標: 地點位置<br>\n",
    "   (3) 字串: 地點名稱、氣候狀況、活動名稱...<p>\n",
    "   \n",
    "4. 你要回答的問題，其如何評估 (tips：你的假設如何驗證)<br>\n",
    "   業績衡量指標的改善，是否:<br>\n",
    "   (1) 下降空車繞行時間<br>\n",
    "   (2) 提升單日載客量(效率)<br>\n",
    "   (3) 下降乘客等車時間<br>\n",
    "   (4) 提升營業收入"
   ]
  },
  {
   "cell_type": "code",
   "execution_count": null,
   "metadata": {},
   "outputs": [],
   "source": []
  }
 ],
 "metadata": {
  "anaconda-cloud": {},
  "kernelspec": {
   "display_name": "Python 3",
   "language": "python",
   "name": "python3"
  },
  "language_info": {
   "codemirror_mode": {
    "name": "ipython",
    "version": 3
   },
   "file_extension": ".py",
   "mimetype": "text/x-python",
   "name": "python",
   "nbconvert_exporter": "python",
   "pygments_lexer": "ipython3",
   "version": "3.8.5"
  }
 },
 "nbformat": 4,
 "nbformat_minor": 1
}
